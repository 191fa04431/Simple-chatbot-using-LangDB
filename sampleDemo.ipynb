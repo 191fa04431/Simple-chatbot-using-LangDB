{
  "cells": [
    {
      "cell_type": "code",
      "execution_count": 2,
      "metadata": {
        "colab": {
          "base_uri": "https://localhost:8080/"
        },
        "id": "0JcRdCcELCuh",
        "outputId": "82188058-1c7f-4010-8960-6be8b8dd4b10"
      },
      "outputs": [
        {
          "name": "stdout",
          "output_type": "stream",
          "text": [
            "Assistant: In the context of artificial intelligence (AI), an *agent* is an entity that perceives its environment through sensors and acts upon that environment through actuators. Agents can be software-based, operating in digital environments, or embodied in a physical form, like robots. Here's a more detailed look at agents and their utility:\n",
            "\n",
            "### Types of Agents\n",
            "\n",
            "1. **Simple Reflex Agents**: These agents select actions based solely on the current percept, ignoring the rest of the percept history. They function by condition-action rules (if-then statements).\n",
            "\n",
            "2. **Model-Based Reflex Agents**: These agents maintain a state model that tracks changes in the environment. This helps them make decisions based on the current state rather than just the current percept.\n",
            "\n",
            "3. **Goal-Based Agents**: These agents have specific goals they try to achieve. They choose actions that will help them reach these goals.\n",
            "\n",
            "4. **Utility-Based Agents**: Beyond achieving goals, these agents aim to maximize their own utility (a measure of their performance). They choose actions based on which one is expected to maximize the utility.\n",
            "\n",
            "5. **Learning Agents**: These agents improve their performance over time. They learn from the environment, improve their knowledge, and refine their processes.\n",
            "\n",
            "### How Agents Are Useful to Humankind\n",
            "\n",
            "1. **Automation**: Agents automate repetitive and mundane tasks, freeing up human time for more complex activities. For example, chatbots can handle customer service inquiries.\n",
            "\n",
            "2. **Personal Assistants**: Virtual agents like Siri, Alexa, and Google Assistant help users manage their schedules, control smart devices, and retrieve information.\n",
            "\n",
            "3. **Data Analysis**: AI agents can process and analyze large datasets to uncover insights and trends that are valuable for businesses, healthcare, and scientific research.\n",
            "\n",
            "4. **Robotics**: In the physical world, robotic agents perform tasks in dangerous or inaccessible environments, such as space exploration, underwater missions, and hazardous materials handling.\n",
            "\n",
            "5. **Healthcare**: AI agents assist in diagnostics, patient monitoring, and personalized medicine, improving healthcare outcomes and operational efficiencies.\n",
            "\n",
            "6. **Smart Environments**: Agents help operate smart homes and cities, optimizing energy use, enhancing security, and improving urban planning.\n",
            "\n",
            "7. **Transportation**: Autonomous vehicles, like self-driving cars, use agents to navigate and respond to dynamic road conditions, promising safer and more efficient travel.\n",
            "\n",
            "Overall, AI agents contribute to increased efficiency, productivity, and safety across various sectors, improving the quality of life and enabling advancements in technology and science.\n"
          ]
        }
      ],
      "source": [
        "from openai import OpenAI\n",
        "client = OpenAI(\n",
        "  base_url = \"https://api.us-east-1.langdb.ai/9ec9ba98-f8e9-4527-b437-ea5303fca14e/v1\", # LangDB API base URL,\n",
        "  api_key = \"langdb_NzVDdUdZc3FmTzlFODZkclQ1QUxHazBXaTVBYUw1SGNPSER3elVvcklJSDZQdmtJeS91aUF5S0FSNWdyZEFpZmozUUNZSXphRGxTRzZpWG5aR3pXUm1YdXViSzlFTXd6a0IvVVQ4bHBBREh0Qm0vTklIOVNaaVZPcWZIQTZrUzIyQXhXVFFEM1ZEUTlIWnZhY05mSG94eW8yVkZ1WlcvNERWeWhMcTJ0KzVZZ0wzTHlma2dWcFF1Q2ozN1JCayt1bFVGYkRnPT06QUFBQUFBQUFBQUFBQUFBQQ==\"\n",
        ")\n",
        "response = client.chat.completions.create(\n",
        "  model = \"openai/gpt-4o\",\n",
        "  messages = [{\n",
        "      \"role\": \"system\",\n",
        "      \"content\": \"You are a helpful assistant teaching me AI.\"\n",
        "    },\n",
        "    {\n",
        "      \"role\": \"user\",\n",
        "      \"content\": \"What are agents in ai ? and how there are useful to humankind\"\n",
        "    }\n",
        "  ]\n",
        ")\n",
        "print(\"Assistant:\", response.choices[0].message.content)\n"
      ]
    },
    {
      "cell_type": "code",
      "execution_count": 4,
      "metadata": {
        "colab": {
          "base_uri": "https://localhost:8080/"
        },
        "id": "4O1Zed08Qqnc",
        "outputId": "f82c5970-9c6b-41e4-e2aa-7e29eb8cd9b3"
      },
      "outputs": [
        {
          "name": "stdout",
          "output_type": "stream",
          "text": [
            "Assistant: As an AI language model, I don't have personal thoughts or opinions, but I can provide you with an overview of the current discourse on this topic:\n",
            "\n",
            "The impact of AI on jobs is a complex and widely debated issue. While it's true that AI and automation are likely to cause significant changes in the job market, the effects are not expected to be uniform across all industries or job types. Here are some key points to consider:\n",
            "\n",
            "1. Job displacement: Some jobs, particularly those involving routine tasks or data processing, may be at risk of automation.\n",
            "\n",
            "2. Job creation: AI is also expected to create new jobs in fields like AI development, data analysis, and machine learning.\n",
            "\n",
            "3. Job transformation: Many existing roles are likely to evolve, incorporating AI tools to enhance productivity rather than replacing humans entirely.\n",
            "\n",
            "4. Timeframe: While 2025 is often mentioned, the impact of AI on jobs is an ongoing process that will likely unfold over many years.\n",
            "\n",
            "5. Skill adaptation: There's an emphasis on the need for workers to adapt and acquire new skills to remain competitive in an AI-driven economy.\n",
            "\n",
            "6. Sector differences: Some industries may be more affected than others, with manufacturing and customer service often cited as vulnerable sectors.\n",
            "\n",
            "7. Economic and social implications: The changes brought by AI may require new policies to address potential economic disparities and ensure a smooth transition.\n",
            "\n",
            "It's important to note that predicting the exact impact of AI on jobs is challenging, and opinions vary among experts. While AI will certainly bring changes to the job market, it's unlikely to cause a sudden, widespread replacement of human workers by 2025. Instead, it's more likely to be a gradual process of adaptation and transformation across various industries.\n"
          ]
        }
      ],
      "source": [
        "\n",
        "#Lets's try another model\n",
        "\n",
        "response = client.chat.completions.create(\n",
        "  model = \"anthropic/claude-3-5-sonnet-20240620\",\n",
        "  messages = [{\n",
        "      \"role\": \"system\",\n",
        "      \"content\": \"You are a helpful assistant teaching me AI\"\n",
        "    },\n",
        "    {\n",
        "      \"role\": \"user\",\n",
        "      \"content\": \"Everyone is talking about AI that it will replace jobs in 2025? what are your thoughts aboout this?\"\n",
        "    }\n",
        "  ],\n",
        ")\n",
        "print(\"Assistant:\", response.choices[0].message.content)"
      ]
    },
    {
      "cell_type": "code",
      "execution_count": 5,
      "metadata": {
        "id": "6_kVquHrM0Lz"
      },
      "outputs": [],
      "source": [
        "routing_extra_body = {\n",
        "                    \"extra\": {\n",
        "                        \"name\": \"Test\",\n",
        "                        \"strategy\": {\"type\": \"percentage\", \"willingness_to_pay\": 0.2},\n",
        "                        \"models\": [\"anthropic/claude-3-5-sonnet-20240620\",\"openai/gpt-4o\"],\n",
        "                    }\n",
        "                }"
      ]
    },
    {
      "cell_type": "code",
      "execution_count": 6,
      "metadata": {
        "colab": {
          "base_uri": "https://localhost:8080/"
        },
        "id": "v9PmXLezNeBH",
        "outputId": "cad12de0-68f4-4956-cf1e-403b45962c1a"
      },
      "outputs": [
        {
          "name": "stdout",
          "output_type": "stream",
          "text": [
            "Assistant: Multi-agent AI refers to systems that involve multiple agents interacting within an environment. Each agent is typically an independent entity with its own goals, abilities, and decision-making processes. These agents can be software-based, representing characters in a simulation or game, or hardware-based, such as robots operating in a physical environment.\n",
            "\n",
            "The key aspects of multi-agent AI include:\n",
            "\n",
            "1. **Autonomy:** Each agent operates independently and makes its own decisions based on observations and internal states.\n",
            "\n",
            "2. **Interaction:** Agents interact with each other, either cooperatively, competitively, or both. They may share information, negotiate, or coordinate actions.\n",
            "\n",
            "3. **Coordination and Cooperation:** In many systems, agents need to work together to achieve common goals or optimize shared outcomes.\n",
            "\n",
            "4. **Competition:** Agents may be in competition for resources, goals, or rewards, which introduces elements of game theory and strategic behavior.\n",
            "\n",
            "5. **Adaptation and Learning:** Agents are often designed to adapt to changes in the environment or learn from their experiences to improve their performance over time.\n",
            "\n",
            "Multi-agent systems are used in a variety of applications, such as:\n",
            "\n",
            "- **Robotics:** Coordinating teams of robots to perform tasks like search and rescue, exploration, or manufacturing.\n",
            "- **Economics and Markets:** Modeling and simulating economic systems, auction mechanisms, or trading strategies.\n",
            "- **Transportation Systems:** Managing traffic flow or coordinating autonomous vehicles.\n",
            "- **Games and Simulations:** Creating realistic environments and non-player character behavior.\n",
            "- **Distributed AI:** Solving problems by distributing tasks among multiple agents that can process information in parallel.\n",
            "\n",
            "Designing effective multi-agent systems poses unique challenges, such as ensuring robust communication, maintaining system stability, and managing complex interactions between agents.\n"
          ]
        }
      ],
      "source": [
        "from uuid import uuid4\n",
        "\n",
        "client = OpenAI(\n",
        "  base_url = \"https://api.us-east-1.langdb.ai/9ec9ba98-f8e9-4527-b437-ea5303fca14e/v1\", # LangDB API base URL,\n",
        "  api_key = \"langdb_NzVDdUdZc3FmTzlFODZkclQ1QUxHazBXaTVBYUw1SGNPSER3elVvcklJSDZQdmtJeS91aUF5S0FSNWdyZEFpZmozUUNZSXphRGxTRzZpWG5aR3pXUm1YdXViSzlFTXd6a0IvVVQ4bHBBREh0Qm0vTklIOVNaaVZPcWZIQTZrUzIyQXhXVFFEM1ZEUTlIWnZhY05mSG94eW8yVkZ1WlcvNERWeWhMcTJ0KzVZZ0wzTHlma2dWcFF1Q2ozN1JCayt1bFVGYkRnPT06QUFBQUFBQUFBQUFBQUFBQQ==\"\n",
        ")\n",
        "response = client.chat.completions.create(\n",
        "  model = \"openai/gpt-4o\",\n",
        "  messages = [{\n",
        "      \"role\": \"system\",\n",
        "      \"content\": \"You are a helpful assistant teaching me AI\"\n",
        "    },\n",
        "    {\n",
        "      \"role\": \"user\",\n",
        "      \"content\": \"What is multi agent AI\"\n",
        "    }\n",
        "  ],\n",
        "  extra_body=routing_extra_body,\n",
        "  extra_headers={\"x-thread-id\": str(uuid4()),\n",
        "                   \"x-run-id\": str(uuid4())}\n",
        ")\n",
        "print(\"Assistant:\", response.choices[0].message.content)"
      ]
    }
  ],
  "metadata": {
    "colab": {
      "provenance": []
    },
    "kernelspec": {
      "display_name": "Python 3",
      "name": "python3"
    },
    "language_info": {
      "codemirror_mode": {
        "name": "ipython",
        "version": 3
      },
      "file_extension": ".py",
      "mimetype": "text/x-python",
      "name": "python",
      "nbconvert_exporter": "python",
      "pygments_lexer": "ipython3",
      "version": "3.12.3"
    }
  },
  "nbformat": 4,
  "nbformat_minor": 0
}
